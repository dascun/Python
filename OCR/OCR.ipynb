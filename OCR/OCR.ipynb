{
 "cells": [
  {
   "cell_type": "code",
   "execution_count": 1,
   "metadata": {},
   "outputs": [
    {
     "name": "stdout",
     "output_type": "stream",
     "text": [
      "Requirement already satisfied: pillow in c:\\users\\win10\\anaconda3\\lib\\site-packages\n",
      "Requirement already satisfied: olefile in c:\\users\\win10\\anaconda3\\lib\\site-packages (from pillow)\n"
     ]
    },
    {
     "name": "stderr",
     "output_type": "stream",
     "text": [
      "You are using pip version 9.0.2, however version 10.0.1 is available.\n",
      "You should consider upgrading via the 'python -m pip install --upgrade pip' command.\n"
     ]
    },
    {
     "name": "stdout",
     "output_type": "stream",
     "text": [
      "Requirement already satisfied: pytesseract in c:\\users\\win10\\anaconda3\\lib\\site-packages\n",
      "Requirement already satisfied: Pillow in c:\\users\\win10\\anaconda3\\lib\\site-packages (from pytesseract)\n",
      "Requirement already satisfied: olefile in c:\\users\\win10\\anaconda3\\lib\\site-packages (from Pillow->pytesseract)\n"
     ]
    },
    {
     "name": "stderr",
     "output_type": "stream",
     "text": [
      "You are using pip version 9.0.2, however version 10.0.1 is available.\n",
      "You should consider upgrading via the 'python -m pip install --upgrade pip' command.\n"
     ]
    }
   ],
   "source": [
    "!pip install pillow\n",
    "!pip install pytesseract\n",
    "from PIL import Image\n",
    "import pytesseract\n",
    "import argparse\n",
    "import cv2\n",
    "import os"
   ]
  },
  {
   "cell_type": "code",
   "execution_count": 2,
   "metadata": {},
   "outputs": [
    {
     "data": {
      "text/plain": [
       "True"
      ]
     },
     "execution_count": 2,
     "metadata": {},
     "output_type": "execute_result"
    }
   ],
   "source": [
    "image = cv2.imread('C://Users//Win10//a.png')\n",
    "gray = cv2.cvtColor(image, cv2.COLOR_BGR2GRAY)\n",
    "cv2.imwrite('C://Users//Win10//b.png', gray)"
   ]
  },
  {
   "cell_type": "code",
   "execution_count": 3,
   "metadata": {},
   "outputs": [],
   "source": [
    "size = 7680, 4320\n",
    "#size = 7016, 4961\n",
    "im = Image.open('C://Users//Win10//b.png')\n",
    "im_resized = im.resize(size, Image.ANTIALIAS)\n",
    "im_resized.save('C://Users//Win10//c.png', \"PNG\")"
   ]
  },
  {
   "cell_type": "code",
   "execution_count": 4,
   "metadata": {},
   "outputs": [],
   "source": [
    "pytesseract.pytesseract.tesseract_cmd = 'C://Program Files (x86)//Tesseract-OCR//tesseract'\n",
    "text = pytesseract.image_to_string(Image.open('C://Users//Win10//c.png'))"
   ]
  },
  {
   "cell_type": "code",
   "execution_count": 5,
   "metadata": {},
   "outputs": [
    {
     "name": "stdout",
     "output_type": "stream",
     "text": [
      "\"Structure: 4 divergences\n",
      "\n",
      "--Parse Objects: 6 Errors\n",
      "\n",
      "--Parse Joins: 0K\n",
      "\n",
      "\"Parse Conditions: 15 Errors\n",
      "~Check Cardinalities: 6 divergences\n",
      "\"Check loop: 0K\n",
      "\n",
      "-- hack for Context: OK\n"
     ]
    }
   ],
   "source": [
    "print(text)"
   ]
  }
 ],
 "metadata": {
  "kernelspec": {
   "display_name": "Python 3",
   "language": "python",
   "name": "python3"
  },
  "language_info": {
   "codemirror_mode": {
    "name": "ipython",
    "version": 3
   },
   "file_extension": ".py",
   "mimetype": "text/x-python",
   "name": "python",
   "nbconvert_exporter": "python",
   "pygments_lexer": "ipython3",
   "version": "3.6.3"
  }
 },
 "nbformat": 4,
 "nbformat_minor": 2
}
